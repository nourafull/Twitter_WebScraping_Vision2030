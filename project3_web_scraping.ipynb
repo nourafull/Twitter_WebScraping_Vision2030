{
 "cells": [
  {
   "cell_type": "markdown",
   "metadata": {},
   "source": [
    "## WebScraper.io Chrome Extension \n",
    "I used WebScraper.io Chrome Extension to scrape historical data from Twitter."
   ]
  },
  {
   "cell_type": "markdown",
   "metadata": {},
   "source": [
    "#### Step 1: \n",
    "Install the Web Scraper Chrome Extension\n",
    "\n",
    "#### Step 2: \n",
    "Create a sitemap for twitter\n",
    "right-click on a page > inspect > developer tools console > Web Scraper tab > Create new sitemap > Import sitemap > paste the JSON in the Sitemap JSON box. Give your sitemap a name.\n",
    "I found the JSON to create a sitemap for twitter on github: https://gist.github.com/scrapehero/d0305d8d15b0e447dcefdf548a9846e9 \n",
    "\n",
    "#### Step 3: \n",
    "Setup the search terms and filters on Twitter's Advanced Search page:\n",
    "https://twitter.com/search-advanced?lang=en\n",
    "For this project, I searched for the following hashtags: #vision_2030 OR #السعودية_2030 OR #رؤية_2030\n",
    "\n",
    "#### Step 4:\n",
    "In the Web Scraper toolbar, click on the Sitemap > select the \"Edit metadata\" option and paste the URL of the twitter advanced search page > go to the Sitemap and click Scrape from the drop down > \n",
    "A new instance of chrome will launch, enabling the browser to scroll and automatically grab data. Once the scrape is complete, the browser would close by itself\n",
    "\n",
    "#### Step 5:\n",
    "Download the data\n",
    "go to the Sitemap drop down > Export as CSV > Download Now \n",
    "A CSV file would soon be downloaded with all the scraped data"
   ]
  },
  {
   "cell_type": "code",
   "execution_count": 1,
   "metadata": {},
   "outputs": [],
   "source": [
    "import pandas as pd\n",
    "import numpy as np"
   ]
  },
  {
   "cell_type": "code",
   "execution_count": 2,
   "metadata": {},
   "outputs": [],
   "source": [
    "df = pd.read_csv('vision_2030_tweets.csv')"
   ]
  },
  {
   "cell_type": "code",
   "execution_count": 3,
   "metadata": {},
   "outputs": [
    {
     "data": {
      "text/html": [
       "<div>\n",
       "<style scoped>\n",
       "    .dataframe tbody tr th:only-of-type {\n",
       "        vertical-align: middle;\n",
       "    }\n",
       "\n",
       "    .dataframe tbody tr th {\n",
       "        vertical-align: top;\n",
       "    }\n",
       "\n",
       "    .dataframe thead th {\n",
       "        text-align: right;\n",
       "    }\n",
       "</style>\n",
       "<table border=\"1\" class=\"dataframe\">\n",
       "  <thead>\n",
       "    <tr style=\"text-align: right;\">\n",
       "      <th></th>\n",
       "      <th>web-scraper-order</th>\n",
       "      <th>web-scraper-start-url</th>\n",
       "      <th>handle</th>\n",
       "      <th>name</th>\n",
       "      <th>content</th>\n",
       "      <th>replies</th>\n",
       "      <th>retweets</th>\n",
       "      <th>favorites</th>\n",
       "      <th>unix_timestamp</th>\n",
       "      <th>published_date</th>\n",
       "      <th>url</th>\n",
       "    </tr>\n",
       "  </thead>\n",
       "  <tbody>\n",
       "    <tr>\n",
       "      <th>0</th>\n",
       "      <td>1555502361-419</td>\n",
       "      <td>https://twitter.com/search?l=&amp;q=%23vision_2030...</td>\n",
       "      <td>@byoriiiii</td>\n",
       "      <td>عبـــيـــر ➰</td>\n",
       "      <td>Uparking system \\nنظام يهدف الى التقليل من الا...</td>\n",
       "      <td>2</td>\n",
       "      <td>1</td>\n",
       "      <td>3</td>\n",
       "      <td>1.554990e+12</td>\n",
       "      <td>4/11/2019 7:25</td>\n",
       "      <td>/byoriiiii/status/1116346598903226368</td>\n",
       "    </tr>\n",
       "    <tr>\n",
       "      <th>1</th>\n",
       "      <td>1555502361-591</td>\n",
       "      <td>https://twitter.com/search?l=&amp;q=%23vision_2030...</td>\n",
       "      <td>@Middleeast_code</td>\n",
       "      <td>YAZID MESSAOUDI</td>\n",
       "      <td>KSA’s #Vision_2030 :                          ...</td>\n",
       "      <td>1</td>\n",
       "      <td>NaN</td>\n",
       "      <td>4</td>\n",
       "      <td>1.540940e+12</td>\n",
       "      <td>10/30/2018 16:24</td>\n",
       "      <td>/Middleeast_code/status/1057412951899062272</td>\n",
       "    </tr>\n",
       "    <tr>\n",
       "      <th>2</th>\n",
       "      <td>1555502361-895</td>\n",
       "      <td>https://twitter.com/search?l=&amp;q=%23vision_2030...</td>\n",
       "      <td>@SaadAlmubaarak</td>\n",
       "      <td>Saad Almubarak</td>\n",
       "      <td>That’s my man !!   #مشروع_نيوم #القديه #مبادرة...</td>\n",
       "      <td>NaN</td>\n",
       "      <td>NaN</td>\n",
       "      <td>NaN</td>\n",
       "      <td>1.508850e+12</td>\n",
       "      <td>10/24/2017 4:55</td>\n",
       "      <td>/SaadAlmubaarak/status/922793692380979201</td>\n",
       "    </tr>\n",
       "    <tr>\n",
       "      <th>3</th>\n",
       "      <td>1555502361-425</td>\n",
       "      <td>https://twitter.com/search?l=&amp;q=%23vision_2030...</td>\n",
       "      <td>@ktdVWY5ykjEGJeJ</td>\n",
       "      <td>وطن</td>\n",
       "      <td>*الرئيس التنفيذي لميناء الملك عبدالله الأستاذ ...</td>\n",
       "      <td>NaN</td>\n",
       "      <td>NaN</td>\n",
       "      <td>1</td>\n",
       "      <td>1.554910e+12</td>\n",
       "      <td>4/10/2019 8:14</td>\n",
       "      <td>/ktdVWY5ykjEGJeJ/status/1115996411496153090</td>\n",
       "    </tr>\n",
       "    <tr>\n",
       "      <th>4</th>\n",
       "      <td>1555502361-1156</td>\n",
       "      <td>https://twitter.com/search?l=&amp;q=%23vision_2030...</td>\n",
       "      <td>@AboShla5Libraly</td>\n",
       "      <td>أبو شلاخ الليبرالي</td>\n",
       "      <td>عبدالعزيز بن خالد الفالح\\nابن معالي وزير الطاق...</td>\n",
       "      <td>506</td>\n",
       "      <td>1.9K</td>\n",
       "      <td>254</td>\n",
       "      <td>1.477400e+12</td>\n",
       "      <td>10/25/2016 6:18</td>\n",
       "      <td>/AboShla5Libraly/status/790905364124471296</td>\n",
       "    </tr>\n",
       "  </tbody>\n",
       "</table>\n",
       "</div>"
      ],
      "text/plain": [
       "  web-scraper-order                              web-scraper-start-url  \\\n",
       "0    1555502361-419  https://twitter.com/search?l=&q=%23vision_2030...   \n",
       "1    1555502361-591  https://twitter.com/search?l=&q=%23vision_2030...   \n",
       "2    1555502361-895  https://twitter.com/search?l=&q=%23vision_2030...   \n",
       "3    1555502361-425  https://twitter.com/search?l=&q=%23vision_2030...   \n",
       "4   1555502361-1156  https://twitter.com/search?l=&q=%23vision_2030...   \n",
       "\n",
       "             handle                name  \\\n",
       "0        @byoriiiii        عبـــيـــر ➰   \n",
       "1  @Middleeast_code     YAZID MESSAOUDI   \n",
       "2   @SaadAlmubaarak      Saad Almubarak   \n",
       "3  @ktdVWY5ykjEGJeJ                 وطن   \n",
       "4  @AboShla5Libraly  أبو شلاخ الليبرالي   \n",
       "\n",
       "                                             content replies retweets  \\\n",
       "0  Uparking system \\nنظام يهدف الى التقليل من الا...       2        1   \n",
       "1  KSA’s #Vision_2030 :                          ...       1      NaN   \n",
       "2  That’s my man !!   #مشروع_نيوم #القديه #مبادرة...     NaN      NaN   \n",
       "3  *الرئيس التنفيذي لميناء الملك عبدالله الأستاذ ...     NaN      NaN   \n",
       "4  عبدالعزيز بن خالد الفالح\\nابن معالي وزير الطاق...     506     1.9K   \n",
       "\n",
       "  favorites  unix_timestamp    published_date  \\\n",
       "0         3    1.554990e+12    4/11/2019 7:25   \n",
       "1         4    1.540940e+12  10/30/2018 16:24   \n",
       "2       NaN    1.508850e+12   10/24/2017 4:55   \n",
       "3         1    1.554910e+12    4/10/2019 8:14   \n",
       "4       254    1.477400e+12   10/25/2016 6:18   \n",
       "\n",
       "                                           url  \n",
       "0        /byoriiiii/status/1116346598903226368  \n",
       "1  /Middleeast_code/status/1057412951899062272  \n",
       "2    /SaadAlmubaarak/status/922793692380979201  \n",
       "3  /ktdVWY5ykjEGJeJ/status/1115996411496153090  \n",
       "4   /AboShla5Libraly/status/790905364124471296  "
      ]
     },
     "execution_count": 3,
     "metadata": {},
     "output_type": "execute_result"
    }
   ],
   "source": [
    "df.head()"
   ]
  },
  {
   "cell_type": "code",
   "execution_count": 4,
   "metadata": {},
   "outputs": [
    {
     "data": {
      "text/plain": [
       "(1006, 11)"
      ]
     },
     "execution_count": 4,
     "metadata": {},
     "output_type": "execute_result"
    }
   ],
   "source": [
    "df.shape"
   ]
  },
  {
   "cell_type": "markdown",
   "metadata": {},
   "source": [
    "# Preprocessing"
   ]
  },
  {
   "cell_type": "markdown",
   "metadata": {},
   "source": [
    "### drop un-needed columns"
   ]
  },
  {
   "cell_type": "code",
   "execution_count": 5,
   "metadata": {
    "scrolled": false
   },
   "outputs": [],
   "source": [
    "df.drop([\"web-scraper-order\",\"web-scraper-start-url\",\"unix_timestamp\",\"url\"],axis=1,inplace=True)"
   ]
  },
  {
   "cell_type": "code",
   "execution_count": 6,
   "metadata": {},
   "outputs": [],
   "source": [
    "new = df.published_date.str.split(' ',expand=True)\n",
    "\n",
    "df['date']=new[0]\n",
    "df['time']=new[1]\n",
    "\n",
    "df.drop(['published_date'],axis=1,inplace=True)"
   ]
  },
  {
   "cell_type": "markdown",
   "metadata": {},
   "source": [
    "### Missing Values"
   ]
  },
  {
   "cell_type": "code",
   "execution_count": 7,
   "metadata": {},
   "outputs": [
    {
     "data": {
      "text/plain": [
       "1"
      ]
     },
     "execution_count": 7,
     "metadata": {},
     "output_type": "execute_result"
    }
   ],
   "source": [
    "df.content.isnull().sum()"
   ]
  },
  {
   "cell_type": "code",
   "execution_count": 8,
   "metadata": {},
   "outputs": [
    {
     "data": {
      "text/html": [
       "<div>\n",
       "<style scoped>\n",
       "    .dataframe tbody tr th:only-of-type {\n",
       "        vertical-align: middle;\n",
       "    }\n",
       "\n",
       "    .dataframe tbody tr th {\n",
       "        vertical-align: top;\n",
       "    }\n",
       "\n",
       "    .dataframe thead th {\n",
       "        text-align: right;\n",
       "    }\n",
       "</style>\n",
       "<table border=\"1\" class=\"dataframe\">\n",
       "  <thead>\n",
       "    <tr style=\"text-align: right;\">\n",
       "      <th></th>\n",
       "      <th>handle</th>\n",
       "      <th>name</th>\n",
       "      <th>content</th>\n",
       "      <th>replies</th>\n",
       "      <th>retweets</th>\n",
       "      <th>favorites</th>\n",
       "      <th>date</th>\n",
       "      <th>time</th>\n",
       "    </tr>\n",
       "  </thead>\n",
       "  <tbody>\n",
       "    <tr>\n",
       "      <th>541</th>\n",
       "      <td>NaN</td>\n",
       "      <td>NaN</td>\n",
       "      <td>NaN</td>\n",
       "      <td>NaN</td>\n",
       "      <td>NaN</td>\n",
       "      <td>NaN</td>\n",
       "      <td>NaN</td>\n",
       "      <td>NaN</td>\n",
       "    </tr>\n",
       "  </tbody>\n",
       "</table>\n",
       "</div>"
      ],
      "text/plain": [
       "    handle name content replies retweets favorites date time\n",
       "541    NaN  NaN     NaN     NaN      NaN       NaN  NaN  NaN"
      ]
     },
     "execution_count": 8,
     "metadata": {},
     "output_type": "execute_result"
    }
   ],
   "source": [
    "df[df.content.isnull()]"
   ]
  },
  {
   "cell_type": "code",
   "execution_count": 9,
   "metadata": {},
   "outputs": [],
   "source": [
    "df.drop([541],axis=0,inplace=True)"
   ]
  },
  {
   "cell_type": "code",
   "execution_count": 10,
   "metadata": {},
   "outputs": [],
   "source": [
    "df.replace(np.nan,0,inplace=True)"
   ]
  },
  {
   "cell_type": "markdown",
   "metadata": {},
   "source": [
    "### Check for duplicate tweets"
   ]
  },
  {
   "cell_type": "code",
   "execution_count": 11,
   "metadata": {},
   "outputs": [
    {
     "data": {
      "text/plain": [
       "1005"
      ]
     },
     "execution_count": 11,
     "metadata": {},
     "output_type": "execute_result"
    }
   ],
   "source": [
    "len(df.drop_duplicates()) "
   ]
  },
  {
   "cell_type": "markdown",
   "metadata": {},
   "source": [
    "There are no duplicate tweets"
   ]
  },
  {
   "cell_type": "markdown",
   "metadata": {},
   "source": [
    "## DataTypes"
   ]
  },
  {
   "cell_type": "code",
   "execution_count": 12,
   "metadata": {},
   "outputs": [],
   "source": [
    "def change(n):\n",
    "    if n == 0 :\n",
    "        return n\n",
    "    \n",
    "    if n[-1] == \"K\":\n",
    "        return int(float(n[:-1])*1000)\n",
    "    else:\n",
    "        return int(n)\n",
    "\n",
    "df.replies = [change(n) for n in df.replies]\n",
    "df.retweets = [change(n) for n in df.retweets]\n",
    "df.favorites = [change(n) for n in df.favorites]\n"
   ]
  },
  {
   "cell_type": "code",
   "execution_count": 13,
   "metadata": {},
   "outputs": [
    {
     "name": "stdout",
     "output_type": "stream",
     "text": [
      "<class 'pandas.core.frame.DataFrame'>\n",
      "Int64Index: 1005 entries, 0 to 1005\n",
      "Data columns (total 8 columns):\n",
      "handle       1005 non-null object\n",
      "name         1005 non-null object\n",
      "content      1005 non-null object\n",
      "replies      1005 non-null int64\n",
      "retweets     1005 non-null int64\n",
      "favorites    1005 non-null int64\n",
      "date         1005 non-null object\n",
      "time         1005 non-null object\n",
      "dtypes: int64(3), object(5)\n",
      "memory usage: 70.7+ KB\n"
     ]
    }
   ],
   "source": [
    "df.info()"
   ]
  },
  {
   "cell_type": "markdown",
   "metadata": {},
   "source": [
    "### Create a CSV file for Submission"
   ]
  },
  {
   "cell_type": "code",
   "execution_count": 14,
   "metadata": {},
   "outputs": [],
   "source": [
    "df.to_csv(\"twitter_vision2030_dataset.csv\",index=None,header=True)"
   ]
  },
  {
   "cell_type": "markdown",
   "metadata": {},
   "source": [
    "### Kaggle Contribution: twitter_vision2030_dataset\n",
    "\n",
    "https://www.kaggle.com/nourafull/twitter_vision2030_dataset"
   ]
  },
  {
   "cell_type": "markdown",
   "metadata": {},
   "source": [
    "### Plotting"
   ]
  },
  {
   "cell_type": "code",
   "execution_count": 19,
   "metadata": {},
   "outputs": [
    {
     "data": {
      "image/png": "[encoded data removed]",
      "text/plain": [
       "<Figure size 432x288 with 1 Axes>"
      ]
     },
     "metadata": {},
     "output_type": "display_data"
    }
   ],
   "source": [
    "import matplotlib.pyplot as plt\n",
    "\n",
    "df.groupby(\"handle\").count()[\"name\"].sort_values(ascending=False).iloc[:10].plot(kind=\"bar\")\n",
    "plt.xlabel(\"account name\")\n",
    "plt.ylabel(\"number of tweets\")\n",
    "plt.title(\"Accounts with highest number of Tweets on Vision 2030\");"
   ]
  },
  {
   "cell_type": "markdown",
   "metadata": {},
   "source": [
    "## Research Question\n",
    "We will use this data to find the most common words that occur in Vision 2030 hashtags. \n",
    "We will analyse the number of favorites, and retweets to measure the popularity of some of the Vision 2030 initiatives.\n",
    "We will do a Sentiment analysis to the tweets and replies to get an idea of the reactions to the Vision 2030 initiatives among the community."
   ]
  }
 ],
 "metadata": {
  "kernelspec": {
   "display_name": "Python 3",
   "language": "python",
   "name": "python3"
  },
  "language_info": {
   "codemirror_mode": {
    "name": "ipython",
    "version": 3
   },
   "file_extension": ".py",
   "mimetype": "text/x-python",
   "name": "python",
   "nbconvert_exporter": "python",
   "pygments_lexer": "ipython3",
   "version": "3.6.5"
  }
 },
 "nbformat": 4,
 "nbformat_minor": 2
}
